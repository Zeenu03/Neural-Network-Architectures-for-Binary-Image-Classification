{
 "cells": [
  {
   "cell_type": "markdown",
   "metadata": {},
   "source": [
    "#\n",
    "<span style=\"font-family: Times New Roman; font-size: 20px;\">\n",
    "<h1 align='center'> \n",
    "Tensorboard Implementation\n",
    "</h1>"
   ]
  },
  {
   "cell_type": "markdown",
   "metadata": {},
   "source": [
    "##\n",
    "<span style=\"font-family: Times New Roman; font-size: 20px;\">\n",
    "<h2> \n",
    "Imports\n",
    "</h2>"
   ]
  },
  {
   "cell_type": "code",
   "execution_count": 1,
   "metadata": {},
   "outputs": [],
   "source": [
    "import tensorflow as tf\n",
    "import matplotlib.pyplot as plt\n",
    "import datetime\n",
    "import io,os,shutil\n",
    "import numpy as np"
   ]
  },
  {
   "cell_type": "markdown",
   "metadata": {},
   "source": [
    "##\n",
    "<span style=\"font-family: Times New Roman; font-size: 20px;\">\n",
    "<h2> \n",
    "Function for Logging Images\n",
    "</h2>"
   ]
  },
  {
   "cell_type": "code",
   "execution_count": 13,
   "metadata": {},
   "outputs": [],
   "source": [
    "if os.path.exists(\"logs\"):\n",
    "    shutil.rmtree(\"logs\")\n",
    "\n",
    "def plot_to_image(figure):\n",
    "    \"\"\"Converts the matplotlib plot specified by 'figure' to a PNG image and\n",
    "    returns it. The supplied figure is closed and inaccessible after this call.\"\"\"\n",
    "    # Save the plot to a PNG in memory.\n",
    "    buf = io.BytesIO()\n",
    "    plt.savefig(buf, format='png')\n",
    "    plt.close(figure)\n",
    "    buf.seek(0)\n",
    " \n",
    "    image = tf.image.decode_png(buf.getvalue(), channels=4)\n",
    "    image = tf.expand_dims(image, 0)\n",
    "    return image\n",
    "\n",
    "def image_grid(images, class_names, class_labels):\n",
    "    \"\"\"Return a 5x5 grid of the MNIST images as a matplotlib figure.\"\"\"\n",
    "    figure = plt.figure(figsize=(10,10))\n",
    "    for i in range(images.shape[0]):\n",
    "        plt.subplot(5, images.shape[0]//5, i+1, title=class_names[class_labels[i]])\n",
    "        plt.xticks([])\n",
    "        plt.yticks([])\n",
    "        plt.grid(False)\n",
    "        plt.imshow(images[i], cmap=plt.cm.binary)\n",
    "    \n",
    "    return figure\n",
    "    "
   ]
  },
  {
   "cell_type": "code",
   "execution_count": 14,
   "metadata": {},
   "outputs": [],
   "source": [
    "# Function to log images to tensorboard\n",
    "def log_images(model, images, class_names, logdir):\n",
    "    file_writer = tf.summary.create_file_writer(logdir)\n",
    "    with file_writer.as_default():\n",
    "        predictions = model.predict(images)\n",
    "        predicted_class = tf.argmax(predictions, axis=1)\n",
    "        \n",
    "        figure = image_grid(images, class_names, predicted_class)\n",
    "        tf.summary.image(\"Test set predictions\", plot_to_image(figure), step=0)\n",
    "        "
   ]
  },
  {
   "cell_type": "markdown",
   "metadata": {},
   "source": [
    "##\n",
    "<span style=\"font-family: Times New Roman; font-size: 20px;\">\n",
    "<h2> \n",
    "Loading Model\n",
    "</h2>"
   ]
  },
  {
   "cell_type": "code",
   "execution_count": 15,
   "metadata": {},
   "outputs": [],
   "source": [
    "#Enter the path of the model here\n",
    "model_path = \"\"\n",
    "def load_model(model_path):\n",
    "    model = tf.keras.models.load_model(model_path)\n",
    "    return model\n",
    "\n",
    "# model = load_model(model_path)"
   ]
  },
  {
   "cell_type": "markdown",
   "metadata": {},
   "source": [
    "##\n",
    "<span style=\"font-family: Times New Roman; font-size: 20px;\">\n",
    "<h2> \n",
    "Data Loader Function\n",
    "</h2>"
   ]
  },
  {
   "cell_type": "code",
   "execution_count": 23,
   "metadata": {},
   "outputs": [],
   "source": [
    "def data_loader(directory):\n",
    "    import os\n",
    "    import numpy as np\n",
    "    import torch\n",
    "    from keras.preprocessing import image\n",
    "    for i, filename in enumerate(os.listdir(directory)):\n",
    "        img = image.load_img(directory + filename, target_size=(256, 256))\n",
    "        img = image.img_to_array(img)\n",
    "        img = img.reshape((1,) + img.shape)\n",
    "        if i == 0:\n",
    "            images = img\n",
    "        else:\n",
    "            images = np.vstack((images, img))\n",
    "    return torch.tensor(images)"
   ]
  },
  {
   "cell_type": "markdown",
   "metadata": {},
   "source": [
    "##\n",
    "<span style=\"font-family: Times New Roman; font-size: 20px;\">\n",
    "<h2> \n",
    "Loading the Test Data and Labels\n",
    "</h2>"
   ]
  },
  {
   "cell_type": "code",
   "execution_count": 24,
   "metadata": {},
   "outputs": [],
   "source": [
    "logdir = \"logs/plots/\" + datetime.datetime.now().strftime(\"%Y%m%d-%H%M%S\")"
   ]
  },
  {
   "cell_type": "code",
   "execution_count": 25,
   "metadata": {},
   "outputs": [
    {
     "name": "stdout",
     "output_type": "stream",
     "text": [
      "(1, 256, 256, 3)\n",
      "[[1.]]\n"
     ]
    }
   ],
   "source": [
    "test_data_j = data_loader(\"data/test/jaguar/\")\n",
    "labels_j = np.ones((test_data_j.shape[0], 1))\n",
    "test_data_c = data_loader(\"data/test/cheetah/\")\n",
    "labels_c = np.zeros((test_data_c.shape[0], 1))\n",
    "\n",
    "test_data = np.vstack((test_data_j, test_data_c))\n",
    "labels = np.vstack((labels_j, labels_c))\n",
    "\n",
    "np.random.seed(0)\n",
    "np.random.shuffle(test_data)\n",
    "np.random.shuffle(labels)\n",
    "\n",
    "# Checking if the data is randomly shuffled correctly with the labels\n",
    "print(test_data[:1].shape)\n",
    "print(labels[:1])\n"
   ]
  },
  {
   "cell_type": "code",
   "execution_count": 18,
   "metadata": {},
   "outputs": [
    {
     "name": "stderr",
     "output_type": "stream",
     "text": [
      "UsageError: Line magic function `%tensorboard` not found.\n"
     ]
    }
   ],
   "source": [
    "%tensorboard --logdir logs/plots"
   ]
  },
  {
   "cell_type": "code",
   "execution_count": null,
   "metadata": {},
   "outputs": [],
   "source": []
  }
 ],
 "metadata": {
  "kernelspec": {
   "display_name": "Python 3",
   "language": "python",
   "name": "python3"
  },
  "language_info": {
   "codemirror_mode": {
    "name": "ipython",
    "version": 3
   },
   "file_extension": ".py",
   "mimetype": "text/x-python",
   "name": "python",
   "nbconvert_exporter": "python",
   "pygments_lexer": "ipython3",
   "version": "3.11.0"
  }
 },
 "nbformat": 4,
 "nbformat_minor": 2
}
